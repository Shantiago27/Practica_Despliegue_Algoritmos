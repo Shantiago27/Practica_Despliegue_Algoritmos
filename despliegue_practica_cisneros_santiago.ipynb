{
  "cells": [
    {
      "cell_type": "markdown",
      "metadata": {},
      "source": [
        "# Práctica Final: Clasificación con Scikit-learn y MLflow\n",
        "\n",
        "En esta práctica, utilizarás un conjunto de datos de Scikit-learn para entrenar un modelo de clasificación.\n",
        "\n",
        "Pasos a seguir: \n",
        "\n",
        "    Exploración de Datos: Analiza el conjunto de datos proporcionado para comprender su estructura y contenido.\n",
        "\n",
        "    Preprocesamiento de Texto: Realiza tareas de preprocesamiento de texto, como tokenización y vectorización, para preparar los datos para el modelado.\n",
        "\n",
        "    Entrenamiento del Modelo: Utiliza algoritmos de clasificación de Scikit-learn para entrenar un modelo con los datos preprocesados.\n",
        "\n",
        "    Evaluación del Modelo: Evalúa el rendimiento del modelo utilizando métricas de evaluación estándar como precisión y recall.\n",
        "\n",
        "    Registro de Métricas con MLflow: Utiliza MLflow para registrar métricas y hiperparámetros durante el entrenamiento, facilitando la gestión y comparación de experimentos.\n",
        "\n",
        "\n",
        "Nota: Dado que no voy a poder tener acceso a vuestros logs de MLFlow añadirme las imagenes de la interfaz de MLFlow en el notebook"
      ]
    },
    {
      "cell_type": "markdown",
      "metadata": {},
      "source": [
        "# 1. Exploracion de Datos:"
      ]
    },
    {
      "cell_type": "markdown",
      "metadata": {},
      "source": [
        "### Descripción del Dataset\n",
        "\n",
        "Para empezar, cargaremos los datos que seran de un dataset de Kaggle que trata sobre la Salud de diferentes pacientes, cada columna del dataset proporciona información específica sobre los pacientes, su admisión y los servicios de salud recibidos, por ello, se describe brevemente cada columna:\n",
        "\n",
        "- **Nombre(Name)**: Nombre del paciente asociado al registro médico.  \n",
        "- **Edad(Age)**: Edad del paciente, en años.  \n",
        "- **Género(Gender)**: Género del paciente.  \n",
        "- **Tipo de Sangre(Blood Type)**: Grupo sanguíneo del paciente (\"A+\", \"O-\", etc.).  \n",
        "- **Condición Médica(Mdedical Condition)**: Diagnóstico principal del paciente, como \"Diabetes\", \"Hipertensión\", \"Asma\", entre otros.  \n",
        "- **Fecha de Admisión(Date of Admission)**: Fecha en la que fue admitido en el centro de salud.  \n",
        "- **Doctor**: Nombre del médico responsable durante su admisión.  \n",
        "- **Hospital**: Centro de salud donde fue admitido el paciente.  \n",
        "- **Proveedor de Seguro(Insurance Provider)**: Compañía de seguros del paciente.  \n",
        "- **Monto Facturado(Billing Amount)**: Dinero facturado por los servicios médicos.  \n",
        "- **Número de Habitación(Room Number)**: Número de la habitación del paciente.  \n",
        "- **Tipo de Admisión(Admission Type)**: Puede ser \"Emergencia\", \"Electiva\" o \"Urgente\".  \n",
        "- **Fecha de Alta(Discharge Date)**: Fecha en que fue dado de alta del hospital.  \n",
        "- **Medicación(Medication)**: Medicamentos recetados o administrados al paciente.  \n",
        "- **Resultados de Pruebas(Test Results)**: Resultados de pruebas médicas, que pueden ser \"Normal\", \"Anormal\" o \"Inconcluso\".  "
      ]
    },
    {
      "cell_type": "code",
      "execution_count": 1,
      "metadata": {},
      "outputs": [
        {
          "name": "stdout",
          "output_type": "stream",
          "text": [
            "            Name  Age  Gender Blood Type Medical Condition Date of Admission  \\\n",
            "0  Bobby JacksOn   30    Male         B-            Cancer        2024-01-31   \n",
            "1   LesLie TErRy   62    Male         A+           Obesity        2019-08-20   \n",
            "2    DaNnY sMitH   76  Female         A-           Obesity        2022-09-22   \n",
            "3   andrEw waTtS   28  Female         O+          Diabetes        2020-11-18   \n",
            "4  adrIENNE bEll   43  Female        AB+            Cancer        2022-09-19   \n",
            "\n",
            "             Doctor                    Hospital Insurance Provider  \\\n",
            "0     Matthew Smith             Sons and Miller         Blue Cross   \n",
            "1   Samantha Davies                     Kim Inc           Medicare   \n",
            "2  Tiffany Mitchell                    Cook PLC              Aetna   \n",
            "3       Kevin Wells  Hernandez Rogers and Vang,           Medicare   \n",
            "4    Kathleen Hanna                 White-White              Aetna   \n",
            "\n",
            "   Billing Amount  Room Number Admission Type Discharge Date   Medication  \\\n",
            "0    18856.281306          328         Urgent     2024-02-02  Paracetamol   \n",
            "1    33643.327287          265      Emergency     2019-08-26    Ibuprofen   \n",
            "2    27955.096079          205      Emergency     2022-10-07      Aspirin   \n",
            "3    37909.782410          450       Elective     2020-12-18    Ibuprofen   \n",
            "4    14238.317814          458         Urgent     2022-10-09   Penicillin   \n",
            "\n",
            "   Test Results  \n",
            "0        Normal  \n",
            "1  Inconclusive  \n",
            "2        Normal  \n",
            "3      Abnormal  \n",
            "4      Abnormal  \n"
          ]
        }
      ],
      "source": [
        "import pandas as pd\n",
        "\n",
        "df = pd.read_csv(r\"\\Users\\Santiago\\Desktop\\KeepCoding\\Entrega Practicas\\Entrega-Practica-Despliegue-Algoritmos\\healthcare_dataset.csv\")\n",
        "print(df.head())"
      ]
    },
    {
      "cell_type": "code",
      "execution_count": 2,
      "metadata": {},
      "outputs": [
        {
          "data": {
            "text/plain": [
              "(55500, 15)"
            ]
          },
          "execution_count": 2,
          "metadata": {},
          "output_type": "execute_result"
        }
      ],
      "source": [
        "df.shape"
      ]
    },
    {
      "cell_type": "code",
      "execution_count": 3,
      "metadata": {},
      "outputs": [
        {
          "data": {
            "text/plain": [
              "Index(['Name', 'Age', 'Gender', 'Blood Type', 'Medical Condition',\n",
              "       'Date of Admission', 'Doctor', 'Hospital', 'Insurance Provider',\n",
              "       'Billing Amount', 'Room Number', 'Admission Type', 'Discharge Date',\n",
              "       'Medication', 'Test Results'],\n",
              "      dtype='object')"
            ]
          },
          "execution_count": 3,
          "metadata": {},
          "output_type": "execute_result"
        }
      ],
      "source": [
        "df.columns"
      ]
    },
    {
      "cell_type": "code",
      "execution_count": 4,
      "metadata": {},
      "outputs": [
        {
          "name": "stdout",
          "output_type": "stream",
          "text": [
            "(6,)\n",
            "Medical Condition\n",
            "Arthritis       9308\n",
            "Diabetes        9304\n",
            "Hypertension    9245\n",
            "Obesity         9231\n",
            "Cancer          9227\n",
            "Asthma          9185\n",
            "Name: count, dtype: int64\n",
            "(3,)\n",
            "Test Results\n",
            "Abnormal        18627\n",
            "Normal          18517\n",
            "Inconclusive    18356\n",
            "Name: count, dtype: int64\n"
          ]
        }
      ],
      "source": [
        "# Obtener los valores únicos de la columna 'Medical Condition' y la columna 'Test Result'\n",
        "valores_unicos = df['Medical Condition'].unique()\n",
        "conteo_valores_unicos = df['Medical Condition'].value_counts()\n",
        "valores_unicos2 = df['Test Results'].unique()\n",
        "conteo_valores_unicos2 = df['Test Results'].value_counts()\n",
        "\n",
        "# Mostrar tamaño de valores únicos\n",
        "print(valores_unicos.shape)\n",
        "print(conteo_valores_unicos)\n",
        "\n",
        "# Mostrar tamaño de valores únicos\n",
        "print(valores_unicos2.shape)\n",
        "print(conteo_valores_unicos2)"
      ]
    },
    {
      "cell_type": "code",
      "execution_count": 5,
      "metadata": {},
      "outputs": [
        {
          "name": "stdout",
          "output_type": "stream",
          "text": [
            "Mayores de 18 años: 55384\n",
            "Menores de 18 años: 116\n"
          ]
        }
      ],
      "source": [
        "def conteo_edad(df, columna_puntuacion):\n",
        "\n",
        "    # Contar reseñas positivas y negativas\n",
        "    mayor = df[df[columna_puntuacion] >= 18].shape[0]\n",
        "    menor = df[df[columna_puntuacion] < 18].shape[0]\n",
        "\n",
        "    # Devolver el resultado en un diccionario\n",
        "    return {'Positivas': mayor, 'Negativas': menor}\n",
        "\n",
        "\n",
        "# Contar reseñas positivas y negativas\n",
        "conteo = conteo_edad(df, columna_puntuacion = 'Age')\n",
        "\n",
        "# Mostrar el resultado\n",
        "print(\"Mayores de 18 años:\", conteo['Positivas'])\n",
        "print(\"Menores de 18 años:\", conteo['Negativas'])"
      ]
    },
    {
      "cell_type": "code",
      "execution_count": 6,
      "metadata": {},
      "outputs": [
        {
          "name": "stderr",
          "output_type": "stream",
          "text": [
            "C:\\Users\\Santiago\\AppData\\Local\\Temp\\ipykernel_8052\\1083687036.py:21: FutureWarning: \n",
            "\n",
            "Passing `palette` without assigning `hue` is deprecated and will be removed in v0.14.0. Assign the `x` variable to `hue` and set `legend=False` for the same effect.\n",
            "\n",
            "  sns.barplot(x=age_distribution.index, y=age_distribution.values, palette='viridis')\n"
          ]
        },
        {
          "data": {
            "image/png": "[encoded data removed]",
            "text/plain": [
              "<Figure size 1000x600 with 1 Axes>"
            ]
          },
          "metadata": {},
          "output_type": "display_data"
        }
      ],
      "source": [
        "import pandas as pd\n",
        "import matplotlib.pyplot as plt\n",
        "import seaborn as sns\n",
        "\n",
        "# Supongamos que ya tienes un DataFrame llamado df con una columna 'Age'\n",
        "# Si no, puedes cargar tu dataset así:\n",
        "# df = pd.read_csv('ruta/al/archivo.csv')\n",
        "\n",
        "# Crear rangos de edad\n",
        "bins = [10, 20, 30, 40, 50, 60, 70, 80, 90, 100]  # Define los rangos que desees\n",
        "labels = ['10-20', '20-30', '30-40', '40-50', '50-60', '60-70', '70-80', '80-90', '90-100']\n",
        "\n",
        "# Agrupar las edades en rangos\n",
        "df['Age Group'] = pd.cut(df['Age'], bins=bins, labels=labels, right=False)\n",
        "\n",
        "# Contar la cantidad de pacientes en cada rango de edad\n",
        "age_distribution = df['Age Group'].value_counts().sort_index()\n",
        "\n",
        "# Crear la gráfica de distribución\n",
        "plt.figure(figsize=(10, 6))\n",
        "sns.barplot(x=age_distribution.index, y=age_distribution.values, palette='viridis')\n",
        "plt.title('Distribución de Pacientes por Rango de Edad', fontsize=16)\n",
        "plt.xlabel('Rango de Edad', fontsize=12)\n",
        "plt.ylabel('Cantidad de Pacientes', fontsize=12)\n",
        "plt.xticks(rotation=45)  \n",
        "plt.grid(axis='y', linestyle='--', alpha=0.7)\n",
        "plt.show()"
      ]
    },
    {
      "cell_type": "code",
      "execution_count": 7,
      "metadata": {},
      "outputs": [
        {
          "data": {
            "text/plain": [
              "<bound method NDFrame.head of                     Name  Age  Gender Blood Type Medical Condition  \\\n",
              "0          Bobby JacksOn   30    Male         B-            Cancer   \n",
              "1           LesLie TErRy   62    Male         A+           Obesity   \n",
              "2            DaNnY sMitH   76  Female         A-           Obesity   \n",
              "3           andrEw waTtS   28  Female         O+          Diabetes   \n",
              "4          adrIENNE bEll   43  Female        AB+            Cancer   \n",
              "...                  ...  ...     ...        ...               ...   \n",
              "55495  eLIZABeTH jaCkSOn   42  Female         O+            Asthma   \n",
              "55496         KYle pEREz   61  Female        AB-           Obesity   \n",
              "55497       HEATher WaNG   38  Female         B+      Hypertension   \n",
              "55498     JENniFER JOneS   43    Male         O-         Arthritis   \n",
              "55499       jAMES GARCiA   53  Female         O+         Arthritis   \n",
              "\n",
              "      Date of Admission            Doctor                      Hospital  \\\n",
              "0            2024-01-31     Matthew Smith               Sons and Miller   \n",
              "1            2019-08-20   Samantha Davies                       Kim Inc   \n",
              "2            2022-09-22  Tiffany Mitchell                      Cook PLC   \n",
              "3            2020-11-18       Kevin Wells    Hernandez Rogers and Vang,   \n",
              "4            2022-09-19    Kathleen Hanna                   White-White   \n",
              "...                 ...               ...                           ...   \n",
              "55495        2020-08-16     Joshua Jarvis                Jones-Thompson   \n",
              "55496        2020-01-23   Taylor Sullivan                  Tucker-Moyer   \n",
              "55497        2020-07-13    Joe Jacobs DVM  and Mahoney Johnson Vasquez,   \n",
              "55498        2019-05-25    Kimberly Curry      Jackson Todd and Castro,   \n",
              "55499        2024-04-02     Dennis Warren                Henry Sons and   \n",
              "\n",
              "      Insurance Provider  Billing Amount  Room Number Admission Type  \\\n",
              "0             Blue Cross    18856.281306          328         Urgent   \n",
              "1               Medicare    33643.327287          265      Emergency   \n",
              "2                  Aetna    27955.096079          205      Emergency   \n",
              "3               Medicare    37909.782410          450       Elective   \n",
              "4                  Aetna    14238.317814          458         Urgent   \n",
              "...                  ...             ...          ...            ...   \n",
              "55495         Blue Cross     2650.714952          417       Elective   \n",
              "55496              Cigna    31457.797307          316       Elective   \n",
              "55497   UnitedHealthcare    27620.764717          347         Urgent   \n",
              "55498           Medicare    32451.092358          321       Elective   \n",
              "55499              Aetna     4010.134172          448         Urgent   \n",
              "\n",
              "      Discharge Date   Medication  Test Results Age Group  \n",
              "0         2024-02-02  Paracetamol        Normal     30-40  \n",
              "1         2019-08-26    Ibuprofen  Inconclusive     60-70  \n",
              "2         2022-10-07      Aspirin        Normal     70-80  \n",
              "3         2020-12-18    Ibuprofen      Abnormal     20-30  \n",
              "4         2022-10-09   Penicillin      Abnormal     40-50  \n",
              "...              ...          ...           ...       ...  \n",
              "55495     2020-09-15   Penicillin      Abnormal     40-50  \n",
              "55496     2020-02-01      Aspirin        Normal     60-70  \n",
              "55497     2020-08-10    Ibuprofen      Abnormal     30-40  \n",
              "55498     2019-05-31    Ibuprofen      Abnormal     40-50  \n",
              "55499     2024-04-29    Ibuprofen      Abnormal     50-60  \n",
              "\n",
              "[55500 rows x 16 columns]>"
            ]
          },
          "execution_count": 7,
          "metadata": {},
          "output_type": "execute_result"
        }
      ],
      "source": [
        "df.head"
      ]
    },
    {
      "cell_type": "markdown",
      "metadata": {},
      "source": [
        "#### Conclusion: \n",
        "\n",
        "El dataset contiene información de pacientes, con columnas como Age, Gender, Blood Type, Medical Condition, Test Results, entre otras. Los tipos de datos incluyen variables numéricas (edad, monto facturado), categóricas (género, tipo de sangre) y fechas (fecha de admisión). El objetivo es desarrollar un modelo predictivo que analice las condiciones médicas (como diabetes, hipertensión, etc.) y los resultados de pruebas (normal, anormal, inconcluso) para identificar patrones y apoyar la toma de decisiones en el ámbito de la salud."
      ]
    },
    {
      "cell_type": "markdown",
      "metadata": {},
      "source": [
        "# 2. Preprocesamiento de Texto:"
      ]
    },
    {
      "cell_type": "markdown",
      "metadata": {},
      "source": [
        "Los algoritmos de machine learning solo procesan datos numéricos, por lo que las variables categóricas (como Gender o Blood Type) deben convertirse en números. Utilizaremos One-Hot Encoding para crear columnas binarias (0 o 1) por cada categoría, evitando que el modelo interprete un orden inexistente. Esto asegura que la información categórica sea interpretada de forma adecuada, mejorando la precisión del modelo."
      ]
    },
    {
      "cell_type": "code",
      "execution_count": 8,
      "metadata": {},
      "outputs": [],
      "source": [
        "import pandas as pd\n",
        "\n",
        "# One-Hot Encoding para columnas categóricas nominales\n",
        "df_encoded = pd.get_dummies(df, columns=['Gender', 'Blood Type', 'Medical Condition', 'Admission Type', 'Medication', 'Test Results'])\n"
      ]
    },
    {
      "cell_type": "markdown",
      "metadata": {},
      "source": [
        "Las columnas con valores numéricos (Age, Billing Amount, Room Number) pueden tener escalas muy diferentes. Entonces, normalizaremos los valores dentro del dataset."
      ]
    },
    {
      "cell_type": "code",
      "execution_count": 9,
      "metadata": {},
      "outputs": [],
      "source": [
        "from sklearn.preprocessing import StandardScaler\n",
        "\n",
        "# Normalizar columnas numéricas\n",
        "scaler = StandardScaler()\n",
        "df[['Age', 'Billing Amount', 'Room Number']] = scaler.fit_transform(df[['Age', 'Billing Amount', 'Room Number']])"
      ]
    },
    {
      "cell_type": "markdown",
      "metadata": {},
      "source": [
        "Elimino algunas columnas que considero no son relevantes para el enfoque de mi análisis previo a ejecutar mi modelo"
      ]
    },
    {
      "cell_type": "code",
      "execution_count": 10,
      "metadata": {},
      "outputs": [],
      "source": [
        "df = df.drop(columns=['Name', 'Doctor', 'Hospital','Date of Admission','Discharge Date','Insurance Provider','Age Group'])"
      ]
    },
    {
      "cell_type": "markdown",
      "metadata": {},
      "source": [
        "Reviso como quedo mi modelo previo a su uso"
      ]
    },
    {
      "cell_type": "code",
      "execution_count": 11,
      "metadata": {},
      "outputs": [
        {
          "data": {
            "text/plain": [
              "(55500, 9)"
            ]
          },
          "execution_count": 11,
          "metadata": {},
          "output_type": "execute_result"
        }
      ],
      "source": [
        "df.shape\n"
      ]
    },
    {
      "cell_type": "code",
      "execution_count": 12,
      "metadata": {},
      "outputs": [
        {
          "data": {
            "text/html": [
              "<div>\n",
              "<style scoped>\n",
              "    .dataframe tbody tr th:only-of-type {\n",
              "        vertical-align: middle;\n",
              "    }\n",
              "\n",
              "    .dataframe tbody tr th {\n",
              "        vertical-align: top;\n",
              "    }\n",
              "\n",
              "    .dataframe thead th {\n",
              "        text-align: right;\n",
              "    }\n",
              "</style>\n",
              "<table border=\"1\" class=\"dataframe\">\n",
              "  <thead>\n",
              "    <tr style=\"text-align: right;\">\n",
              "      <th></th>\n",
              "      <th>Age</th>\n",
              "      <th>Gender</th>\n",
              "      <th>Blood Type</th>\n",
              "      <th>Medical Condition</th>\n",
              "      <th>Billing Amount</th>\n",
              "      <th>Room Number</th>\n",
              "      <th>Admission Type</th>\n",
              "      <th>Medication</th>\n",
              "      <th>Test Results</th>\n",
              "    </tr>\n",
              "  </thead>\n",
              "  <tbody>\n",
              "    <tr>\n",
              "      <th>0</th>\n",
              "      <td>-1.098824</td>\n",
              "      <td>Male</td>\n",
              "      <td>B-</td>\n",
              "      <td>Cancer</td>\n",
              "      <td>-0.470261</td>\n",
              "      <td>0.233120</td>\n",
              "      <td>Urgent</td>\n",
              "      <td>Paracetamol</td>\n",
              "      <td>Normal</td>\n",
              "    </tr>\n",
              "    <tr>\n",
              "      <th>1</th>\n",
              "      <td>0.533639</td>\n",
              "      <td>Male</td>\n",
              "      <td>A+</td>\n",
              "      <td>Obesity</td>\n",
              "      <td>0.570250</td>\n",
              "      <td>-0.313556</td>\n",
              "      <td>Emergency</td>\n",
              "      <td>Ibuprofen</td>\n",
              "      <td>Inconclusive</td>\n",
              "    </tr>\n",
              "    <tr>\n",
              "      <th>2</th>\n",
              "      <td>1.247842</td>\n",
              "      <td>Female</td>\n",
              "      <td>A-</td>\n",
              "      <td>Obesity</td>\n",
              "      <td>0.169990</td>\n",
              "      <td>-0.834199</td>\n",
              "      <td>Emergency</td>\n",
              "      <td>Aspirin</td>\n",
              "      <td>Normal</td>\n",
              "    </tr>\n",
              "    <tr>\n",
              "      <th>3</th>\n",
              "      <td>-1.200853</td>\n",
              "      <td>Female</td>\n",
              "      <td>O+</td>\n",
              "      <td>Diabetes</td>\n",
              "      <td>0.870465</td>\n",
              "      <td>1.291761</td>\n",
              "      <td>Elective</td>\n",
              "      <td>Ibuprofen</td>\n",
              "      <td>Abnormal</td>\n",
              "    </tr>\n",
              "    <tr>\n",
              "      <th>4</th>\n",
              "      <td>-0.435636</td>\n",
              "      <td>Female</td>\n",
              "      <td>AB+</td>\n",
              "      <td>Cancer</td>\n",
              "      <td>-0.795211</td>\n",
              "      <td>1.361180</td>\n",
              "      <td>Urgent</td>\n",
              "      <td>Penicillin</td>\n",
              "      <td>Abnormal</td>\n",
              "    </tr>\n",
              "  </tbody>\n",
              "</table>\n",
              "</div>"
            ],
            "text/plain": [
              "        Age  Gender Blood Type Medical Condition  Billing Amount  Room Number  \\\n",
              "0 -1.098824    Male         B-            Cancer       -0.470261     0.233120   \n",
              "1  0.533639    Male         A+           Obesity        0.570250    -0.313556   \n",
              "2  1.247842  Female         A-           Obesity        0.169990    -0.834199   \n",
              "3 -1.200853  Female         O+          Diabetes        0.870465     1.291761   \n",
              "4 -0.435636  Female        AB+            Cancer       -0.795211     1.361180   \n",
              "\n",
              "  Admission Type   Medication  Test Results  \n",
              "0         Urgent  Paracetamol        Normal  \n",
              "1      Emergency    Ibuprofen  Inconclusive  \n",
              "2      Emergency      Aspirin        Normal  \n",
              "3       Elective    Ibuprofen      Abnormal  \n",
              "4         Urgent   Penicillin      Abnormal  "
            ]
          },
          "execution_count": 12,
          "metadata": {},
          "output_type": "execute_result"
        }
      ],
      "source": [
        "df.head()"
      ]
    },
    {
      "cell_type": "markdown",
      "metadata": {},
      "source": [
        "# 3. Entrenamiento del Modelo:"
      ]
    },
    {
      "cell_type": "markdown",
      "metadata": {},
      "source": [
        "En este caso, utilizaremos el modelo de regresion logistica para el entrenamiento del modelo, ademas utilizaremos cross validation y verificaremos los resultados en el reporte de clasificacion:"
      ]
    },
    {
      "cell_type": "code",
      "execution_count": 17,
      "metadata": {},
      "outputs": [
        {
          "name": "stdout",
          "output_type": "stream",
          "text": [
            "Precisión: 0.338018018018018\n",
            "\n",
            "Reporte de clasificación:\n",
            "              precision    recall  f1-score   support\n",
            "\n",
            "           0       0.34      0.63      0.44      3754\n",
            "           1       0.31      0.11      0.16      3617\n",
            "           2       0.35      0.26      0.30      3729\n",
            "\n",
            "    accuracy                           0.34     11100\n",
            "   macro avg       0.33      0.34      0.30     11100\n",
            "weighted avg       0.33      0.34      0.30     11100\n",
            "\n",
            "\n",
            "Matriz de confusión:\n",
            "[[2363  468  923]\n",
            " [2281  406  930]\n",
            " [2311  435  983]]\n",
            "\n",
            "Precisión promedio con Cross-Validation: 0.335063063063063\n",
            "Desviación estándar: 0.0036311559318637976\n"
          ]
        }
      ],
      "source": [
        "from sklearn.model_selection import train_test_split, cross_val_score\n",
        "from sklearn.linear_model import LogisticRegression\n",
        "from sklearn.metrics import accuracy_score, classification_report, confusion_matrix\n",
        "from sklearn.preprocessing import LabelEncoder\n",
        "import pandas as pd\n",
        "\n",
        "# Separar X e y correctamente\n",
        "X = df[['Admission Type', 'Medical Condition', 'Medication']]\n",
        "y = df['Test Results']  # Variable objetivo\n",
        "\n",
        "# Codificar la variable objetivo (y) usando LabelEncoder\n",
        "label_encoder = LabelEncoder()\n",
        "y_encoded = label_encoder.fit_transform(y)\n",
        "\n",
        "# Aplicar One-Hot Encoding a las columnas categóricas de X\n",
        "X_encoded = pd.get_dummies(X, columns=['Admission Type', 'Medical Condition', 'Medication'])\n",
        "\n",
        "# Dividir el dataset en train y test\n",
        "X_train, X_test, y_train, y_test = train_test_split(X_encoded, y_encoded, test_size=0.2, random_state=42)\n",
        "\n",
        "# Crear el modelo de Regresión Logística\n",
        "model = LogisticRegression(max_iter=1000)\n",
        "model.fit(X_train, y_train)\n",
        "\n",
        "# Predecir en el conjunto de prueba\n",
        "y_pred = model.predict(X_test)\n",
        "\n",
        "# Calcular métricas de evaluación\n",
        "print(\"Precisión:\", accuracy_score(y_test, y_pred))\n",
        "print(\"\\nReporte de clasificación:\")\n",
        "print(classification_report(y_test, y_pred, zero_division=0))\n",
        "print(\"\\nMatriz de confusión:\")\n",
        "print(confusion_matrix(y_test, y_pred))\n",
        "\n",
        "# Cross-Validation\n",
        "cv_scores = cross_val_score(model, X_encoded, y_encoded, cv=5, scoring='accuracy')\n",
        "print(\"\\nPrecisión promedio con Cross-Validation:\", cv_scores.mean())\n",
        "print(\"Desviación estándar:\", cv_scores.std())"
      ]
    },
    {
      "cell_type": "markdown",
      "metadata": {},
      "source": [
        "# 4. Registro de Metricas con ML Flow"
      ]
    },
    {
      "cell_type": "code",
      "execution_count": 33,
      "metadata": {},
      "outputs": [
        {
          "name": "stdout",
          "output_type": "stream",
          "text": [
            "Defaulting to user installation because normal site-packages is not writeable\n",
            "Requirement already satisfied: mlflow in c:\\users\\santiago\\appdata\\roaming\\python\\python312\\site-packages (2.20.2)\n",
            "Requirement already satisfied: mlflow-skinny==2.20.2 in c:\\users\\santiago\\appdata\\roaming\\python\\python312\\site-packages (from mlflow) (2.20.2)\n",
            "Requirement already satisfied: Flask<4 in c:\\programdata\\anaconda3\\lib\\site-packages (from mlflow) (3.0.3)\n",
            "Requirement already satisfied: Jinja2<4,>=3.0 in c:\\programdata\\anaconda3\\lib\\site-packages (from mlflow) (3.1.4)\n",
            "Requirement already satisfied: alembic!=1.10.0,<2 in c:\\users\\santiago\\appdata\\roaming\\python\\python312\\site-packages (from mlflow) (1.14.1)\n",
            "Requirement already satisfied: docker<8,>=4.0.0 in c:\\users\\santiago\\appdata\\roaming\\python\\python312\\site-packages (from mlflow) (7.1.0)\n",
            "Requirement already satisfied: graphene<4 in c:\\users\\santiago\\appdata\\roaming\\python\\python312\\site-packages (from mlflow) (3.4.3)\n",
            "Requirement already satisfied: markdown<4,>=3.3 in c:\\programdata\\anaconda3\\lib\\site-packages (from mlflow) (3.4.1)\n",
            "Requirement already satisfied: matplotlib<4 in c:\\programdata\\anaconda3\\lib\\site-packages (from mlflow) (3.9.2)\n",
            "Requirement already satisfied: numpy<3 in c:\\programdata\\anaconda3\\lib\\site-packages (from mlflow) (1.26.4)\n",
            "Requirement already satisfied: pandas<3 in c:\\programdata\\anaconda3\\lib\\site-packages (from mlflow) (2.2.2)\n",
            "Requirement already satisfied: pyarrow<19,>=4.0.0 in c:\\programdata\\anaconda3\\lib\\site-packages (from mlflow) (16.1.0)\n",
            "Requirement already satisfied: scikit-learn<2 in c:\\programdata\\anaconda3\\lib\\site-packages (from mlflow) (1.5.1)\n",
            "Requirement already satisfied: scipy<2 in c:\\programdata\\anaconda3\\lib\\site-packages (from mlflow) (1.13.1)\n",
            "Requirement already satisfied: sqlalchemy<3,>=1.4.0 in c:\\programdata\\anaconda3\\lib\\site-packages (from mlflow) (2.0.34)\n",
            "Requirement already satisfied: waitress<4 in c:\\users\\santiago\\appdata\\roaming\\python\\python312\\site-packages (from mlflow) (3.0.2)\n",
            "Requirement already satisfied: cachetools<6,>=5.0.0 in c:\\programdata\\anaconda3\\lib\\site-packages (from mlflow-skinny==2.20.2->mlflow) (5.3.3)\n",
            "Requirement already satisfied: click<9,>=7.0 in c:\\programdata\\anaconda3\\lib\\site-packages (from mlflow-skinny==2.20.2->mlflow) (8.1.7)\n",
            "Requirement already satisfied: cloudpickle<4 in c:\\programdata\\anaconda3\\lib\\site-packages (from mlflow-skinny==2.20.2->mlflow) (3.0.0)\n",
            "Requirement already satisfied: databricks-sdk<1,>=0.20.0 in c:\\users\\santiago\\appdata\\roaming\\python\\python312\\site-packages (from mlflow-skinny==2.20.2->mlflow) (0.44.1)\n",
            "Requirement already satisfied: gitpython<4,>=3.1.9 in c:\\programdata\\anaconda3\\lib\\site-packages (from mlflow-skinny==2.20.2->mlflow) (3.1.43)\n",
            "Requirement already satisfied: importlib_metadata!=4.7.0,<9,>=3.7.0 in c:\\programdata\\anaconda3\\lib\\site-packages (from mlflow-skinny==2.20.2->mlflow) (7.0.1)\n",
            "Requirement already satisfied: opentelemetry-api<3,>=1.9.0 in c:\\users\\santiago\\appdata\\roaming\\python\\python312\\site-packages (from mlflow-skinny==2.20.2->mlflow) (1.30.0)\n",
            "Requirement already satisfied: opentelemetry-sdk<3,>=1.9.0 in c:\\users\\santiago\\appdata\\roaming\\python\\python312\\site-packages (from mlflow-skinny==2.20.2->mlflow) (1.30.0)\n",
            "Requirement already satisfied: packaging<25 in c:\\programdata\\anaconda3\\lib\\site-packages (from mlflow-skinny==2.20.2->mlflow) (24.1)\n",
            "Requirement already satisfied: protobuf<6,>=3.12.0 in c:\\programdata\\anaconda3\\lib\\site-packages (from mlflow-skinny==2.20.2->mlflow) (4.25.3)\n",
            "Requirement already satisfied: pydantic<3,>=1.10.8 in c:\\programdata\\anaconda3\\lib\\site-packages (from mlflow-skinny==2.20.2->mlflow) (2.8.2)\n",
            "Requirement already satisfied: pyyaml<7,>=5.1 in c:\\programdata\\anaconda3\\lib\\site-packages (from mlflow-skinny==2.20.2->mlflow) (6.0.1)\n",
            "Requirement already satisfied: requests<3,>=2.17.3 in c:\\programdata\\anaconda3\\lib\\site-packages (from mlflow-skinny==2.20.2->mlflow) (2.32.3)\n",
            "Requirement already satisfied: sqlparse<1,>=0.4.0 in c:\\users\\santiago\\appdata\\roaming\\python\\python312\\site-packages (from mlflow-skinny==2.20.2->mlflow) (0.5.3)\n",
            "Requirement already satisfied: typing-extensions<5,>=4.0.0 in c:\\programdata\\anaconda3\\lib\\site-packages (from mlflow-skinny==2.20.2->mlflow) (4.11.0)\n",
            "Requirement already satisfied: Mako in c:\\users\\santiago\\appdata\\roaming\\python\\python312\\site-packages (from alembic!=1.10.0,<2->mlflow) (1.3.9)\n",
            "Requirement already satisfied: pywin32>=304 in c:\\programdata\\anaconda3\\lib\\site-packages (from docker<8,>=4.0.0->mlflow) (305.1)\n",
            "Requirement already satisfied: urllib3>=1.26.0 in c:\\programdata\\anaconda3\\lib\\site-packages (from docker<8,>=4.0.0->mlflow) (2.2.3)\n",
            "Requirement already satisfied: Werkzeug>=3.0.0 in c:\\programdata\\anaconda3\\lib\\site-packages (from Flask<4->mlflow) (3.0.3)\n",
            "Requirement already satisfied: itsdangerous>=2.1.2 in c:\\programdata\\anaconda3\\lib\\site-packages (from Flask<4->mlflow) (2.2.0)\n",
            "Requirement already satisfied: blinker>=1.6.2 in c:\\programdata\\anaconda3\\lib\\site-packages (from Flask<4->mlflow) (1.6.2)\n",
            "Requirement already satisfied: graphql-core<3.3,>=3.1 in c:\\users\\santiago\\appdata\\roaming\\python\\python312\\site-packages (from graphene<4->mlflow) (3.2.6)\n",
            "Requirement already satisfied: graphql-relay<3.3,>=3.1 in c:\\users\\santiago\\appdata\\roaming\\python\\python312\\site-packages (from graphene<4->mlflow) (3.2.0)\n",
            "Requirement already satisfied: python-dateutil<3,>=2.7.0 in c:\\programdata\\anaconda3\\lib\\site-packages (from graphene<4->mlflow) (2.9.0.post0)\n",
            "Requirement already satisfied: MarkupSafe>=2.0 in c:\\programdata\\anaconda3\\lib\\site-packages (from Jinja2<4,>=3.0->mlflow) (2.1.3)\n",
            "Requirement already satisfied: contourpy>=1.0.1 in c:\\programdata\\anaconda3\\lib\\site-packages (from matplotlib<4->mlflow) (1.2.0)\n",
            "Requirement already satisfied: cycler>=0.10 in c:\\programdata\\anaconda3\\lib\\site-packages (from matplotlib<4->mlflow) (0.11.0)\n",
            "Requirement already satisfied: fonttools>=4.22.0 in c:\\programdata\\anaconda3\\lib\\site-packages (from matplotlib<4->mlflow) (4.51.0)\n",
            "Requirement already satisfied: kiwisolver>=1.3.1 in c:\\programdata\\anaconda3\\lib\\site-packages (from matplotlib<4->mlflow) (1.4.4)\n",
            "Requirement already satisfied: pillow>=8 in c:\\programdata\\anaconda3\\lib\\site-packages (from matplotlib<4->mlflow) (10.4.0)\n",
            "Requirement already satisfied: pyparsing>=2.3.1 in c:\\programdata\\anaconda3\\lib\\site-packages (from matplotlib<4->mlflow) (3.1.2)\n",
            "Requirement already satisfied: pytz>=2020.1 in c:\\programdata\\anaconda3\\lib\\site-packages (from pandas<3->mlflow) (2024.1)\n",
            "Requirement already satisfied: tzdata>=2022.7 in c:\\programdata\\anaconda3\\lib\\site-packages (from pandas<3->mlflow) (2023.3)\n",
            "Requirement already satisfied: joblib>=1.2.0 in c:\\programdata\\anaconda3\\lib\\site-packages (from scikit-learn<2->mlflow) (1.4.2)\n",
            "Requirement already satisfied: threadpoolctl>=3.1.0 in c:\\programdata\\anaconda3\\lib\\site-packages (from scikit-learn<2->mlflow) (3.5.0)\n",
            "Requirement already satisfied: greenlet!=0.4.17 in c:\\programdata\\anaconda3\\lib\\site-packages (from sqlalchemy<3,>=1.4.0->mlflow) (3.0.1)\n",
            "Requirement already satisfied: colorama in c:\\programdata\\anaconda3\\lib\\site-packages (from click<9,>=7.0->mlflow-skinny==2.20.2->mlflow) (0.4.6)\n",
            "Requirement already satisfied: google-auth~=2.0 in c:\\users\\santiago\\appdata\\roaming\\python\\python312\\site-packages (from databricks-sdk<1,>=0.20.0->mlflow-skinny==2.20.2->mlflow) (2.38.0)\n",
            "Requirement already satisfied: gitdb<5,>=4.0.1 in c:\\programdata\\anaconda3\\lib\\site-packages (from gitpython<4,>=3.1.9->mlflow-skinny==2.20.2->mlflow) (4.0.7)\n",
            "Requirement already satisfied: zipp>=0.5 in c:\\programdata\\anaconda3\\lib\\site-packages (from importlib_metadata!=4.7.0,<9,>=3.7.0->mlflow-skinny==2.20.2->mlflow) (3.17.0)\n",
            "Requirement already satisfied: deprecated>=1.2.6 in c:\\users\\santiago\\appdata\\roaming\\python\\python312\\site-packages (from opentelemetry-api<3,>=1.9.0->mlflow-skinny==2.20.2->mlflow) (1.2.18)\n",
            "Requirement already satisfied: opentelemetry-semantic-conventions==0.51b0 in c:\\users\\santiago\\appdata\\roaming\\python\\python312\\site-packages (from opentelemetry-sdk<3,>=1.9.0->mlflow-skinny==2.20.2->mlflow) (0.51b0)\n",
            "Requirement already satisfied: annotated-types>=0.4.0 in c:\\programdata\\anaconda3\\lib\\site-packages (from pydantic<3,>=1.10.8->mlflow-skinny==2.20.2->mlflow) (0.6.0)\n",
            "Requirement already satisfied: pydantic-core==2.20.1 in c:\\programdata\\anaconda3\\lib\\site-packages (from pydantic<3,>=1.10.8->mlflow-skinny==2.20.2->mlflow) (2.20.1)\n",
            "Requirement already satisfied: six>=1.5 in c:\\programdata\\anaconda3\\lib\\site-packages (from python-dateutil<3,>=2.7.0->graphene<4->mlflow) (1.16.0)\n",
            "Requirement already satisfied: charset-normalizer<4,>=2 in c:\\programdata\\anaconda3\\lib\\site-packages (from requests<3,>=2.17.3->mlflow-skinny==2.20.2->mlflow) (3.3.2)\n",
            "Requirement already satisfied: idna<4,>=2.5 in c:\\programdata\\anaconda3\\lib\\site-packages (from requests<3,>=2.17.3->mlflow-skinny==2.20.2->mlflow) (3.7)\n",
            "Requirement already satisfied: certifi>=2017.4.17 in c:\\programdata\\anaconda3\\lib\\site-packages (from requests<3,>=2.17.3->mlflow-skinny==2.20.2->mlflow) (2024.8.30)\n",
            "Requirement already satisfied: wrapt<2,>=1.10 in c:\\programdata\\anaconda3\\lib\\site-packages (from deprecated>=1.2.6->opentelemetry-api<3,>=1.9.0->mlflow-skinny==2.20.2->mlflow) (1.14.1)\n",
            "Requirement already satisfied: smmap<5,>=3.0.1 in c:\\programdata\\anaconda3\\lib\\site-packages (from gitdb<5,>=4.0.1->gitpython<4,>=3.1.9->mlflow-skinny==2.20.2->mlflow) (4.0.0)\n",
            "Requirement already satisfied: pyasn1-modules>=0.2.1 in c:\\programdata\\anaconda3\\lib\\site-packages (from google-auth~=2.0->databricks-sdk<1,>=0.20.0->mlflow-skinny==2.20.2->mlflow) (0.2.8)\n",
            "Requirement already satisfied: rsa<5,>=3.1.4 in c:\\users\\santiago\\appdata\\roaming\\python\\python312\\site-packages (from google-auth~=2.0->databricks-sdk<1,>=0.20.0->mlflow-skinny==2.20.2->mlflow) (4.9)\n",
            "Requirement already satisfied: pyasn1<0.5.0,>=0.4.6 in c:\\programdata\\anaconda3\\lib\\site-packages (from pyasn1-modules>=0.2.1->google-auth~=2.0->databricks-sdk<1,>=0.20.0->mlflow-skinny==2.20.2->mlflow) (0.4.8)\n",
            "Note: you may need to restart the kernel to use updated packages.\n"
          ]
        }
      ],
      "source": [
        "pip install mlflow"
      ]
    },
    {
      "cell_type": "code",
      "execution_count": 46,
      "metadata": {},
      "outputs": [
        {
          "name": "stderr",
          "output_type": "stream",
          "text": [
            "2025/02/24 03:41:56 WARNING mlflow.models.model: Model logged without a signature and input example. Please set `input_example` parameter when logging the model to auto infer the model signature.\n"
          ]
        }
      ],
      "source": [
        "import mlflow\n",
        "from sklearn.metrics import accuracy_score, classification_report, confusion_matrix\n",
        "\n",
        "# Inicializar el experimento\n",
        "mlflow.set_experiment(\"My_Medical_Classification_Experiment\")\n",
        "\n",
        "# Iniciar una nueva corrida\n",
        "mlflow.start_run()\n",
        "\n",
        "try:\n",
        "    # Registrar parámetros\n",
        "    mlflow.log_param(\"test_size\", 0.2)\n",
        "    mlflow.log_param(\"random_state\", 42)\n",
        "    mlflow.log_param(\"max_iter\", 1000)\n",
        "    mlflow.log_param(\"cv_folds\", 5)\n",
        "\n",
        "    # ... (trabajo previo para entrenar el modelo y obtener y_pred, y_test, etc.)\n",
        "\n",
        "    # Calcular métricas\n",
        "    accuracy = accuracy_score(y_test, y_pred)\n",
        "    report = classification_report(y_test, y_pred, output_dict=True)\n",
        "    metrics = {\n",
        "        \"accuracy\": accuracy,\n",
        "        \"recall\": report[\"weighted avg\"][\"recall\"],\n",
        "        \"f1_score\": report[\"weighted avg\"][\"f1-score\"]\n",
        "    }\n",
        "\n",
        "    # Registrar métricas\n",
        "    mlflow.log_metrics(metrics)\n",
        "\n",
        "    # Validación Cruzada\n",
        "    cv_scores = cross_val_score(model, X_encoded, y_encoded, cv=5, scoring='accuracy')\n",
        "    mlflow.log_metrics({\n",
        "        \"cv_mean_accuracy\": cv_scores.mean(),\n",
        "        \"cv_std_accuracy\": cv_scores.std()\n",
        "    })\n",
        "\n",
        "    # Registrar el modelo\n",
        "    mlflow.sklearn.log_model(\n",
        "        model,\n",
        "        \"model\",\n",
        "        serialization_format=mlflow.sklearn.SERIALIZATION_FORMAT_PICKLE\n",
        "    )\n",
        "\n",
        "finally:\n",
        "    # Finalizar la corrida\n",
        "    mlflow.end_run()"
      ]
    },
    {
      "cell_type": "markdown",
      "metadata": {},
      "source": [
        "## Generar .py de funciones y main con al menos dos argumentos de entrada."
      ]
    },
    {
      "cell_type": "code",
      "execution_count": 78,
      "metadata": {},
      "outputs": [
        {
          "name": "stdout",
          "output_type": "stream",
          "text": [
            "Overwriting funciones_practica.py\n"
          ]
        }
      ],
      "source": [
        "%%writefile funciones_practica.py\n",
        "\n",
        "# functions.py\n",
        "import pandas as pd\n",
        "from sklearn.model_selection import train_test_split, cross_val_score\n",
        "from sklearn.preprocessing import OneHotEncoder, LabelEncoder\n",
        "from sklearn.compose import ColumnTransformer\n",
        "from sklearn.linear_model import LogisticRegression\n",
        "from sklearn.metrics import accuracy_score, classification_report, confusion_matrix\n",
        "import mlflow\n",
        "import mlflow.sklearn\n",
        "\n",
        "def load_data(filepath: str) -> pd.DataFrame:\n",
        "    \"\"\"Carga los datos desde un archivo CSV.\"\"\"\n",
        "    return pd.read_csv(filepath)\n",
        "\n",
        "def preprocess_data(df: pd.DataFrame) -> tuple:\n",
        "    \"\"\"Realiza el procesamiento de datos incluyendo One-Hot Encoding y Label Encoding.\"\"\"\n",
        "    X = df[['Admission Type', 'Medical Condition', 'Medication']]\n",
        "    y = df['Test Results']\n",
        "\n",
        "    # Codificación de variables categóricas\n",
        "    categorical_cols = ['Admission Type', 'Medical Condition', 'Medication']\n",
        "    preprocessor = ColumnTransformer(\n",
        "        transformers=[\n",
        "            ('cat', OneHotEncoder(), categorical_cols)\n",
        "        ],\n",
        "        remainder='passthrough'\n",
        "    )\n",
        "    X_encoded = preprocessor.fit_transform(X)\n",
        "\n",
        "    # Codificar variable objetivo\n",
        "    le = LabelEncoder()\n",
        "    y_encoded = le.fit_transform(y)\n",
        "\n",
        "    return X_encoded, y_encoded\n",
        "\n",
        "def train_model(X_train, y_train) -> LogisticRegression:\n",
        "    \"\"\"Entrena un modelo de Regresión Logística.\"\"\"\n",
        "    model = LogisticRegression(max_iter=1000)\n",
        "    model.fit(X_train, y_train)\n",
        "    return model\n",
        "\n",
        "def evaluate_model(model, X_test, y_test) -> dict:\n",
        "    \"\"\"Evalúa el modelo y devuelve un diccionario con las métricas.\"\"\"\n",
        "    y_pred = model.predict(X_test)\n",
        "    accuracy = accuracy_score(y_test, y_pred)\n",
        "    report = classification_report(y_test, y_pred, output_dict=True)\n",
        "\n",
        "    metrics = {\n",
        "        \"accuracy\": accuracy,\n",
        "        \"recall\": report[\"weighted avg\"][\"recall\"],\n",
        "        \"f1_score\": report[\"weighted avg\"][\"f1-score\"]\n",
        "    }\n",
        "\n",
        "    return metrics\n",
        "\n",
        "def log_model(model, metrics, X_encoded, y_encoded) -> None:\n",
        "    \"\"\"Registra el modelo y sus métricas en MLflow.\"\"\"\n",
        "    # Inicializar el experimento\n",
        "    mlflow.set_experiment(\"Medical_Classifier_Experiment\")\n",
        "\n",
        "    try:\n",
        "        # Iniciar una nueva corrida\n",
        "        mlflow.start_run()\n",
        "        \n",
        "        max_iter_values = 2000\n",
        "        cv_folds_values = 10\n",
        "        \n",
        "        # Registrar parámetros\n",
        "        mlflow.log_param(\"test_size\", 0.2)\n",
        "        mlflow.log_param(\"random_state\", 42)\n",
        "        mlflow.log_param(\"max_iter\", max_iter_values)\n",
        "        mlflow.log_param(\"cv_folds\", cv_folds_values)\n",
        "\n",
        "        # Registrar métricas\n",
        "        mlflow.log_metrics(metrics)\n",
        "\n",
        "        # Validación Cruzada\n",
        "        cv_scores = cross_val_score(model, X_encoded, y_encoded, cv=5, scoring='accuracy')\n",
        "        mlflow.log_metrics({\n",
        "            \"cv_mean_accuracy\": cv_scores.mean(),\n",
        "            \"cv_std_accuracy\": cv_scores.std()\n",
        "        })\n",
        "\n",
        "        # Registrar el modelo\n",
        "        mlflow.sklearn.log_model(\n",
        "            model,\n",
        "            \"model\",\n",
        "            serialization_format=mlflow.sklearn.SERIALIZATION_FORMAT_PICKLE\n",
        "        )\n",
        "\n",
        "    finally:\n",
        "        # Finalizar la corrida\n",
        "        mlflow.end_run()"
      ]
    },
    {
      "cell_type": "code",
      "execution_count": 73,
      "metadata": {},
      "outputs": [
        {
          "name": "stdout",
          "output_type": "stream",
          "text": [
            "Overwriting main.py\n"
          ]
        }
      ],
      "source": [
        "%%writefile main.py\n",
        "\n",
        "# main.py\n",
        "from funciones_practica import load_data, preprocess_data, train_model, evaluate_model, log_model\n",
        "import argparse\n",
        "from sklearn.model_selection import train_test_split\n",
        "\n",
        "\n",
        "def main():\n",
        "    # Parsear argumentos\n",
        "    parser = argparse.ArgumentParser(description='Entrenar modelo de clasificación médica.')\n",
        "    parser.add_argument('--data_path', type=str, default=r\"C:\\Users\\Santiago\\Desktop\\KeepCoding\\Entrega Practicas\\Entrega-Practica-Despliegue-Algoritmos\\healthcare_dataset.csv\",\n",
        "                       help='Ruta al archivo CSV que contiene los datos.')\n",
        "    args = parser.parse_args()\n",
        "\n",
        "    # Cargar los datos\n",
        "    df = load_data(args.data_path)\n",
        "\n",
        "    # Preprocesar datos\n",
        "    X_encoded, y_encoded = preprocess_data(df)\n",
        "\n",
        "    # Dividir en train y test\n",
        "    X_train, X_test, y_train, y_test = train_test_split(\n",
        "        X_encoded, y_encoded, test_size=0.2, random_state=42\n",
        "    )\n",
        "\n",
        "    # Entrenar el modelo\n",
        "    model = train_model(X_train, y_train)\n",
        "\n",
        "    # Evaluar el modelo\n",
        "    metrics = evaluate_model(model, X_test, y_test)\n",
        "\n",
        "    # Visualizar métricas\n",
        "    print(\"Precisión:\", metrics[\"accuracy\"])\n",
        "    print(\"F1 Score:\", metrics[\"f1_score\"])\n",
        "\n",
        "    # Registrar modelo y métricas en MLflow\n",
        "    log_model(model, metrics, X_encoded, y_encoded)\n",
        "\n",
        "if __name__ == \"__main__\":\n",
        "    main()"
      ]
    },
    {
      "cell_type": "code",
      "execution_count": 79,
      "metadata": {},
      "outputs": [
        {
          "name": "stdout",
          "output_type": "stream",
          "text": [
            "Precisión: 0.338018018018018\n",
            "F1 Score: 0.3035692392722252\n"
          ]
        },
        {
          "name": "stderr",
          "output_type": "stream",
          "text": [
            "2025/02/24 04:18:56 WARNING mlflow.models.model: Model logged without a signature and input example. Please set `input_example` parameter when logging the model to auto infer the model signature.\n"
          ]
        }
      ],
      "source": [
        "!python main.py"
      ]
    },
    {
      "cell_type": "markdown",
      "metadata": {},
      "source": [
        "## Práctica parte FastAPI"
      ]
    },
    {
      "cell_type": "markdown",
      "metadata": {},
      "source": [
        "### Para esta parte de la práctica teneis que generar un script con al menos 5 modulos app.get y dos de ellos tienen que ser pipelines de HF. \n",
        "\n",
        "### Parte de la practica se tendra que entregar en capturas de pantalla. Las capturas de pantalla a adjuntas son las siguientes. \n",
        "\n",
        "### 1. Captura de la pantalla docs con al menos 5 modulos. \n",
        "### 2. Captura de cada una de los modulos con la respuesta dentro de docs. \n",
        "### 3. Captura de cada uno de los modulos en la llamada https.\n",
        "### 4. Todo el codigo usado durante el proceso. Notebooks y scripts.\n",
        "\n",
        "### Opcional\n",
        "\n",
        "### 5. Despliegue del script en GCP Cloud Run"
      ]
    },
    {
      "cell_type": "code",
      "execution_count": 4,
      "metadata": {},
      "outputs": [
        {
          "name": "stdout",
          "output_type": "stream",
          "text": [
            "Overwriting mainfast.py\n"
          ]
        }
      ],
      "source": [
        "%%writefile mainfast.py\n",
        "from fastapi import FastAPI\n",
        "from pydantic import BaseModel\n",
        "from transformers import pipeline\n",
        "\n",
        "# Inicializar la aplicación FastAPI\n",
        "app = FastAPI()\n",
        "\n",
        "# Definir modelos de datos\n",
        "class TextInput(BaseModel):\n",
        "    text: str\n",
        "\n",
        "# Endpoint 1: Contar palabras (POST)\n",
        "@app.post(\"/contar_palabras\")\n",
        "def contar_palabras(input: TextInput):\n",
        "    num_palabras = len(input.text.split())\n",
        "    return {\"texto\": input.text, \"num_palabras\": num_palabras}\n",
        "\n",
        "# Endpoint 2: Calcular factorial (GET)\n",
        "@app.get(\"/factorial\")\n",
        "def factorial(n: int):\n",
        "    def calcular_factorial(x):\n",
        "        if x == 0 or x == 1:\n",
        "            return 1\n",
        "        return x * calcular_factorial(x - 1)\n",
        "    \n",
        "    resultado = calcular_factorial(n)\n",
        "    return {\"numero\": n, \"factorial\": resultado}\n",
        "\n",
        "# Endpoint 3: Pipeline de análisis de sentimientos (POST) - Usando DistilBERT\n",
        "sentiment_pipeline = pipeline(\"sentiment-analysis\", model=\"distilbert-base-uncased\")\n",
        "\n",
        "@app.post(\"/analizar_sentimiento\")\n",
        "def analizar_sentimiento(input: TextInput):\n",
        "    resultado = sentiment_pipeline(input.text)\n",
        "    return {\"texto\": input.text, \"sentimiento\": resultado}\n",
        "\n",
        "# Endpoint 4: Pipeline de generación de texto (POST) - Usando T5-small\n",
        "text_generator = pipeline(\"text2text-generation\", model=\"t5-small\")\n",
        "\n",
        "@app.post(\"/generar_texto\")\n",
        "def generar_texto(input: TextInput, max_length: int = 50):\n",
        "    resultado = text_generator(input.text, max_length=max_length)\n",
        "    return {\"prompt\": input.text, \"texto_generado\": resultado[0]['generated_text']}\n",
        "\n",
        "# Endpoint 5: Pipeline de traducción de texto (POST) - Usando T5-small\n",
        "translator = pipeline(\"translation_en_to_es\", model=\"t5-small\")\n",
        "\n",
        "@app.post(\"/traducir\")\n",
        "def traducir(input: TextInput):\n",
        "    resultado = translator(input.text)\n",
        "    return {\"texto_original\": input.text, \"traduccion\": resultado[0]['translation_text']}\n",
        "\n"
      ]
    },
    {
      "cell_type": "code",
      "execution_count": 5,
      "metadata": {},
      "outputs": [
        {
          "name": "stdout",
          "output_type": "stream",
          "text": [
            "Defaulting to user installation because normal site-packages is not writeable\n",
            "Collecting fastapi==0.95.2 (from -r requirements.txt (line 1))\n",
            "  Using cached fastapi-0.95.2-py3-none-any.whl.metadata (24 kB)\n",
            "Collecting uvicorn==0.22.0 (from -r requirements.txt (line 2))\n",
            "  Using cached uvicorn-0.22.0-py3-none-any.whl.metadata (6.3 kB)\n",
            "Collecting transformers==4.30.0 (from -r requirements.txt (line 3))\n",
            "  Using cached transformers-4.30.0-py3-none-any.whl.metadata (113 kB)\n",
            "Collecting torch==2.5.1 (from -r requirements.txt (line 4))\n",
            "  Using cached torch-2.5.1-cp312-cp312-win_amd64.whl.metadata (28 kB)\n",
            "Collecting pydantic==1.10.7 (from -r requirements.txt (line 5))\n",
            "  Downloading pydantic-1.10.7-py3-none-any.whl.metadata (145 kB)\n",
            "Collecting starlette<0.28.0,>=0.27.0 (from fastapi==0.95.2->-r requirements.txt (line 1))\n",
            "  Downloading starlette-0.27.0-py3-none-any.whl.metadata (5.8 kB)\n",
            "Requirement already satisfied: click>=7.0 in c:\\users\\santiago\\appdata\\roaming\\python\\python312\\site-packages (from uvicorn==0.22.0->-r requirements.txt (line 2)) (8.1.8)\n",
            "Requirement already satisfied: h11>=0.8 in c:\\users\\santiago\\appdata\\roaming\\python\\python312\\site-packages (from uvicorn==0.22.0->-r requirements.txt (line 2)) (0.14.0)\n",
            "Requirement already satisfied: filelock in c:\\programdata\\anaconda3\\lib\\site-packages (from transformers==4.30.0->-r requirements.txt (line 3)) (3.13.1)\n",
            "Collecting huggingface-hub<1.0,>=0.14.1 (from transformers==4.30.0->-r requirements.txt (line 3))\n",
            "  Using cached huggingface_hub-0.29.1-py3-none-any.whl.metadata (13 kB)\n",
            "Requirement already satisfied: numpy>=1.17 in c:\\programdata\\anaconda3\\lib\\site-packages (from transformers==4.30.0->-r requirements.txt (line 3)) (1.26.4)\n",
            "Requirement already satisfied: packaging>=20.0 in c:\\programdata\\anaconda3\\lib\\site-packages (from transformers==4.30.0->-r requirements.txt (line 3)) (24.1)\n",
            "Requirement already satisfied: pyyaml>=5.1 in c:\\programdata\\anaconda3\\lib\\site-packages (from transformers==4.30.0->-r requirements.txt (line 3)) (6.0.1)\n",
            "Requirement already satisfied: regex!=2019.12.17 in c:\\programdata\\anaconda3\\lib\\site-packages (from transformers==4.30.0->-r requirements.txt (line 3)) (2024.9.11)\n",
            "Requirement already satisfied: requests in c:\\programdata\\anaconda3\\lib\\site-packages (from transformers==4.30.0->-r requirements.txt (line 3)) (2.32.3)\n",
            "Collecting tokenizers!=0.11.3,<0.14,>=0.11.1 (from transformers==4.30.0->-r requirements.txt (line 3))\n",
            "  Downloading tokenizers-0.13.3.tar.gz (314 kB)\n",
            "  Installing build dependencies: started\n",
            "  Installing build dependencies: finished with status 'done'\n",
            "  Getting requirements to build wheel: started\n",
            "  Getting requirements to build wheel: finished with status 'done'\n",
            "  Preparing metadata (pyproject.toml): started\n",
            "  Preparing metadata (pyproject.toml): finished with status 'done'\n",
            "Collecting safetensors>=0.3.1 (from transformers==4.30.0->-r requirements.txt (line 3))\n",
            "  Using cached safetensors-0.5.2-cp38-abi3-win_amd64.whl.metadata (3.9 kB)\n",
            "Requirement already satisfied: tqdm>=4.27 in c:\\programdata\\anaconda3\\lib\\site-packages (from transformers==4.30.0->-r requirements.txt (line 3)) (4.66.5)\n",
            "Requirement already satisfied: typing-extensions>=4.8.0 in c:\\programdata\\anaconda3\\lib\\site-packages (from torch==2.5.1->-r requirements.txt (line 4)) (4.11.0)\n",
            "Requirement already satisfied: networkx in c:\\programdata\\anaconda3\\lib\\site-packages (from torch==2.5.1->-r requirements.txt (line 4)) (3.3)\n",
            "Requirement already satisfied: jinja2 in c:\\programdata\\anaconda3\\lib\\site-packages (from torch==2.5.1->-r requirements.txt (line 4)) (3.1.4)\n",
            "Requirement already satisfied: fsspec in c:\\programdata\\anaconda3\\lib\\site-packages (from torch==2.5.1->-r requirements.txt (line 4)) (2024.6.1)\n",
            "Requirement already satisfied: setuptools in c:\\programdata\\anaconda3\\lib\\site-packages (from torch==2.5.1->-r requirements.txt (line 4)) (75.1.0)\n",
            "Collecting sympy==1.13.1 (from torch==2.5.1->-r requirements.txt (line 4))\n",
            "  Using cached sympy-1.13.1-py3-none-any.whl.metadata (12 kB)\n",
            "Requirement already satisfied: mpmath<1.4,>=1.1.0 in c:\\programdata\\anaconda3\\lib\\site-packages (from sympy==1.13.1->torch==2.5.1->-r requirements.txt (line 4)) (1.3.0)\n",
            "Requirement already satisfied: colorama in c:\\users\\santiago\\appdata\\roaming\\python\\python312\\site-packages (from click>=7.0->uvicorn==0.22.0->-r requirements.txt (line 2)) (0.4.6)\n",
            "Requirement already satisfied: anyio<5,>=3.4.0 in c:\\programdata\\anaconda3\\lib\\site-packages (from starlette<0.28.0,>=0.27.0->fastapi==0.95.2->-r requirements.txt (line 1)) (4.2.0)\n",
            "Requirement already satisfied: MarkupSafe>=2.0 in c:\\programdata\\anaconda3\\lib\\site-packages (from jinja2->torch==2.5.1->-r requirements.txt (line 4)) (2.1.3)\n",
            "Requirement already satisfied: charset-normalizer<4,>=2 in c:\\programdata\\anaconda3\\lib\\site-packages (from requests->transformers==4.30.0->-r requirements.txt (line 3)) (3.3.2)\n",
            "Requirement already satisfied: idna<4,>=2.5 in c:\\programdata\\anaconda3\\lib\\site-packages (from requests->transformers==4.30.0->-r requirements.txt (line 3)) (3.7)\n",
            "Requirement already satisfied: urllib3<3,>=1.21.1 in c:\\programdata\\anaconda3\\lib\\site-packages (from requests->transformers==4.30.0->-r requirements.txt (line 3)) (2.2.3)\n",
            "Requirement already satisfied: certifi>=2017.4.17 in c:\\programdata\\anaconda3\\lib\\site-packages (from requests->transformers==4.30.0->-r requirements.txt (line 3)) (2024.8.30)\n",
            "Requirement already satisfied: sniffio>=1.1 in c:\\programdata\\anaconda3\\lib\\site-packages (from anyio<5,>=3.4.0->starlette<0.28.0,>=0.27.0->fastapi==0.95.2->-r requirements.txt (line 1)) (1.3.0)\n",
            "Downloading fastapi-0.95.2-py3-none-any.whl (56 kB)\n",
            "Downloading uvicorn-0.22.0-py3-none-any.whl (58 kB)\n",
            "Downloading transformers-4.30.0-py3-none-any.whl (7.2 MB)\n",
            "   ---------------------------------------- 0.0/7.2 MB ? eta -:--:--\n",
            "   ------- -------------------------------- 1.3/7.2 MB 6.1 MB/s eta 0:00:01\n",
            "   ------------------- -------------------- 3.4/7.2 MB 8.4 MB/s eta 0:00:01\n",
            "   ----------------------------- ---------- 5.2/7.2 MB 10.6 MB/s eta 0:00:01\n",
            "   ---------------------------------------- 7.2/7.2 MB 8.8 MB/s eta 0:00:00\n",
            "Using cached torch-2.5.1-cp312-cp312-win_amd64.whl (203.0 MB)\n",
            "Downloading pydantic-1.10.7-py3-none-any.whl (157 kB)\n",
            "Using cached sympy-1.13.1-py3-none-any.whl (6.2 MB)\n",
            "Using cached huggingface_hub-0.29.1-py3-none-any.whl (468 kB)\n",
            "Using cached safetensors-0.5.2-cp38-abi3-win_amd64.whl (303 kB)\n",
            "Downloading starlette-0.27.0-py3-none-any.whl (66 kB)\n",
            "Building wheels for collected packages: tokenizers\n",
            "  Building wheel for tokenizers (pyproject.toml): started\n",
            "  Building wheel for tokenizers (pyproject.toml): finished with status 'error'\n",
            "Failed to build tokenizers\n",
            "Note: you may need to restart the kernel to use updated packages.\n"
          ]
        },
        {
          "name": "stderr",
          "output_type": "stream",
          "text": [
            "  error: subprocess-exited-with-error\n",
            "  \n",
            "  × Building wheel for tokenizers (pyproject.toml) did not run successfully.\n",
            "  │ exit code: 1\n",
            "  ╰─> [49 lines of output]\n",
            "      running bdist_wheel\n",
            "      running build\n",
            "      running build_py\n",
            "      creating build\\lib.win-amd64-cpython-312\\tokenizers\n",
            "      copying py_src\\tokenizers\\__init__.py -> build\\lib.win-amd64-cpython-312\\tokenizers\n",
            "      creating build\\lib.win-amd64-cpython-312\\tokenizers\\models\n",
            "      copying py_src\\tokenizers\\models\\__init__.py -> build\\lib.win-amd64-cpython-312\\tokenizers\\models\n",
            "      creating build\\lib.win-amd64-cpython-312\\tokenizers\\decoders\n",
            "      copying py_src\\tokenizers\\decoders\\__init__.py -> build\\lib.win-amd64-cpython-312\\tokenizers\\decoders\n",
            "      creating build\\lib.win-amd64-cpython-312\\tokenizers\\normalizers\n",
            "      copying py_src\\tokenizers\\normalizers\\__init__.py -> build\\lib.win-amd64-cpython-312\\tokenizers\\normalizers\n",
            "      creating build\\lib.win-amd64-cpython-312\\tokenizers\\pre_tokenizers\n",
            "      copying py_src\\tokenizers\\pre_tokenizers\\__init__.py -> build\\lib.win-amd64-cpython-312\\tokenizers\\pre_tokenizers\n",
            "      creating build\\lib.win-amd64-cpython-312\\tokenizers\\processors\n",
            "      copying py_src\\tokenizers\\processors\\__init__.py -> build\\lib.win-amd64-cpython-312\\tokenizers\\processors\n",
            "      creating build\\lib.win-amd64-cpython-312\\tokenizers\\trainers\n",
            "      copying py_src\\tokenizers\\trainers\\__init__.py -> build\\lib.win-amd64-cpython-312\\tokenizers\\trainers\n",
            "      creating build\\lib.win-amd64-cpython-312\\tokenizers\\implementations\n",
            "      copying py_src\\tokenizers\\implementations\\base_tokenizer.py -> build\\lib.win-amd64-cpython-312\\tokenizers\\implementations\n",
            "      copying py_src\\tokenizers\\implementations\\bert_wordpiece.py -> build\\lib.win-amd64-cpython-312\\tokenizers\\implementations\n",
            "      copying py_src\\tokenizers\\implementations\\byte_level_bpe.py -> build\\lib.win-amd64-cpython-312\\tokenizers\\implementations\n",
            "      copying py_src\\tokenizers\\implementations\\char_level_bpe.py -> build\\lib.win-amd64-cpython-312\\tokenizers\\implementations\n",
            "      copying py_src\\tokenizers\\implementations\\sentencepiece_bpe.py -> build\\lib.win-amd64-cpython-312\\tokenizers\\implementations\n",
            "      copying py_src\\tokenizers\\implementations\\sentencepiece_unigram.py -> build\\lib.win-amd64-cpython-312\\tokenizers\\implementations\n",
            "      copying py_src\\tokenizers\\implementations\\__init__.py -> build\\lib.win-amd64-cpython-312\\tokenizers\\implementations\n",
            "      creating build\\lib.win-amd64-cpython-312\\tokenizers\\tools\n",
            "      copying py_src\\tokenizers\\tools\\visualizer.py -> build\\lib.win-amd64-cpython-312\\tokenizers\\tools\n",
            "      copying py_src\\tokenizers\\tools\\__init__.py -> build\\lib.win-amd64-cpython-312\\tokenizers\\tools\n",
            "      copying py_src\\tokenizers\\__init__.pyi -> build\\lib.win-amd64-cpython-312\\tokenizers\n",
            "      copying py_src\\tokenizers\\models\\__init__.pyi -> build\\lib.win-amd64-cpython-312\\tokenizers\\models\n",
            "      copying py_src\\tokenizers\\decoders\\__init__.pyi -> build\\lib.win-amd64-cpython-312\\tokenizers\\decoders\n",
            "      copying py_src\\tokenizers\\normalizers\\__init__.pyi -> build\\lib.win-amd64-cpython-312\\tokenizers\\normalizers\n",
            "      copying py_src\\tokenizers\\pre_tokenizers\\__init__.pyi -> build\\lib.win-amd64-cpython-312\\tokenizers\\pre_tokenizers\n",
            "      copying py_src\\tokenizers\\processors\\__init__.pyi -> build\\lib.win-amd64-cpython-312\\tokenizers\\processors\n",
            "      copying py_src\\tokenizers\\trainers\\__init__.pyi -> build\\lib.win-amd64-cpython-312\\tokenizers\\trainers\n",
            "      copying py_src\\tokenizers\\tools\\visualizer-styles.css -> build\\lib.win-amd64-cpython-312\\tokenizers\\tools\n",
            "      running build_ext\n",
            "      running build_rust\n",
            "      error: can't find Rust compiler\n",
            "      \n",
            "      If you are using an outdated pip version, it is possible a prebuilt wheel is available for this package but pip is not able to install from it. Installing from the wheel would avoid the need for a Rust compiler.\n",
            "      \n",
            "      To update pip, run:\n",
            "      \n",
            "          pip install --upgrade pip\n",
            "      \n",
            "      and then retry package installation.\n",
            "      \n",
            "      If you did intend to build this package from source, try installing a Rust compiler from your system package manager and ensure it is on the PATH during installation. Alternatively, rustup (available at https://rustup.rs) is the recommended way to download and update the Rust compiler toolchain.\n",
            "      [end of output]\n",
            "  \n",
            "  note: This error originates from a subprocess, and is likely not a problem with pip.\n",
            "  ERROR: Failed building wheel for tokenizers\n",
            "ERROR: ERROR: Failed to build installable wheels for some pyproject.toml based projects (tokenizers)\n"
          ]
        }
      ],
      "source": [
        "pip install -r requirements.txt"
      ]
    },
    {
      "cell_type": "code",
      "execution_count": null,
      "metadata": {},
      "outputs": [],
      "source": []
    }
  ],
  "metadata": {
    "accelerator": "GPU",
    "colab": {
      "provenance": []
    },
    "kernelspec": {
      "display_name": "base",
      "language": "python",
      "name": "python3"
    },
    "language_info": {
      "codemirror_mode": {
        "name": "ipython",
        "version": 3
      },
      "file_extension": ".py",
      "mimetype": "text/x-python",
      "name": "python",
      "nbconvert_exporter": "python",
      "pygments_lexer": "ipython3",
      "version": "3.12.7"
    }
  },
  "nbformat": 4,
  "nbformat_minor": 0
}
